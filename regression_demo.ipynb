{
 "cells": [
  {
   "cell_type": "code",
   "execution_count": 12,
   "id": "d8c1e131-f61a-488a-81a4-c7c04619f9ab",
   "metadata": {
    "tags": []
   },
   "outputs": [],
   "source": [
    "import numpy as np\n",
    "from sklearn.ensemble import RandomForestRegressor\n",
    "from sklearn.model_selection import GridSearchCV\n",
    "from utils import RWN, get_rfweight"
   ]
  },
  {
   "cell_type": "code",
   "execution_count": 13,
   "id": "6e5aace4-3bbf-4f99-9b16-06eb6cc2e632",
   "metadata": {},
   "outputs": [],
   "source": [
    "def func(x):\n",
    "    \n",
    "    return (1 + x[:, 0] - x[:, 1] - 2 * x[:, 2]) ** 3 * (x[:, 0] - x[:, 1] > 0)"
   ]
  },
  {
   "cell_type": "code",
   "execution_count": 14,
   "id": "5f1e2272-4d29-46b2-9aa6-e3bb59ef25ee",
   "metadata": {},
   "outputs": [],
   "source": [
    "train_size = 200\n",
    "test_size = 1000\n",
    "p = 10\n",
    "snrdb = 10\n",
    "\n",
    "fvar = np.var(func(np.random.rand(10000, p)))\n",
    "sigma = np.sqrt(fvar / (10 ** (snrdb / 10) - 1))"
   ]
  },
  {
   "cell_type": "code",
   "execution_count": 15,
   "id": "d4ae9622-8aa9-4b38-954b-ad77db77a621",
   "metadata": {},
   "outputs": [],
   "source": [
    "np.random.seed(123)\n",
    "\n",
    "x_train = np.random.rand(train_size, p)\n",
    "y_train = func(x_train) + sigma * np.random.randn(train_size)\n",
    "x_test = np.random.rand(test_size, p)\n",
    "y_test = func(x_test)"
   ]
  },
  {
   "cell_type": "code",
   "execution_count": 16,
   "id": "833af707-e234-4abc-99d6-d8350c9602ba",
   "metadata": {},
   "outputs": [
    {
     "data": {
      "text/plain": [
       "GridSearchCV(cv='warn', error_score='raise-deprecating',\n",
       "             estimator=RandomForestRegressor(bootstrap=True, criterion='mse',\n",
       "                                             max_depth=None,\n",
       "                                             max_features='auto',\n",
       "                                             max_leaf_nodes=None,\n",
       "                                             min_impurity_decrease=0.0,\n",
       "                                             min_impurity_split=None,\n",
       "                                             min_samples_leaf=1,\n",
       "                                             min_samples_split=2,\n",
       "                                             min_weight_fraction_leaf=0.0,\n",
       "                                             n_estimators=100, n_jobs=None,\n",
       "                                             oob_score=False, random_state=None,\n",
       "                                             verbose=0, warm_start=False),\n",
       "             iid='warn', n_jobs=None,\n",
       "             param_grid={'min_samples_split': [2, 3, 4, 5, 6, 7]},\n",
       "             pre_dispatch='2*n_jobs', refit=True, return_train_score=False,\n",
       "             scoring=None, verbose=0)"
      ]
     },
     "execution_count": 16,
     "metadata": {},
     "output_type": "execute_result"
    }
   ],
   "source": [
    "params_mrf = {\n",
    "    'min_samples_split': [2, 3, 4, 5, 6, 7]\n",
    "}\n",
    "\n",
    "model = RandomForestRegressor(n_estimators=100)\n",
    "reg_mrf = GridSearchCV(model, params_mrf)\n",
    "reg_mrf.fit(x_train, y_train)"
   ]
  },
  {
   "cell_type": "code",
   "execution_count": null,
   "id": "3b5e07d3-18b6-4e7e-b452-911f713e315c",
   "metadata": {},
   "outputs": [
    {
     "name": "stdout",
     "output_type": "stream",
     "text": [
      "Algorithm converges for RWN model at iter 306, loss: 0.0015921342419460416.\n"
     ]
    }
   ],
   "source": [
    "hs = 256 \n",
    "batch_size = 100\n",
    "n_iter = 2000\n",
    "lr = 1e-3\n",
    "tol = 1e-5\n",
    "device = 'cuda'\n",
    "d = False\n",
    "verbose = True\n",
    "\n",
    "tau = 1e-3\n",
    "\n",
    "mrf = reg_mrf.best_estimator_\n",
    "mrf.fit(x_train, y_train)\n",
    "mrfw, mrfwn = get_rfweight(mrf, x_train)\n",
    "\n",
    "model_rwn = RWN(hs, device)\n",
    "model_rwn.fit(x_train, y_train, mrfw, tau, d, batch_size, n_iter, lr, tol, verbose)\n",
    "y_pred = model_rwn.predict(x_test)"
   ]
  },
  {
   "cell_type": "code",
   "execution_count": 18,
   "id": "a98e918c-7747-4565-bfd1-33dafb20833a",
   "metadata": {},
   "outputs": [
    {
     "data": {
      "text/plain": [
       "0.16487906496137228"
      ]
     },
     "execution_count": 18,
     "metadata": {},
     "output_type": "execute_result"
    }
   ],
   "source": [
    "np.mean((y_test - y_pred) ** 2) #testing error"
   ]
  },
  {
   "cell_type": "code",
   "execution_count": null,
   "id": "491500bb-7818-41ac-9b32-43532af7f27c",
   "metadata": {},
   "outputs": [],
   "source": []
  }
 ],
 "metadata": {
  "kernelspec": {
   "display_name": "Statistic",
   "language": "python",
   "name": "python3"
  },
  "language_info": {
   "codemirror_mode": {
    "name": "ipython",
    "version": 3
   },
   "file_extension": ".py",
   "mimetype": "text/x-python",
   "name": "python",
   "nbconvert_exporter": "python",
   "pygments_lexer": "ipython3",
   "version": "3.7.12"
  }
 },
 "nbformat": 4,
 "nbformat_minor": 5
}
